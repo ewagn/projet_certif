{
 "cells": [
  {
   "cell_type": "code",
   "execution_count": 52,
   "metadata": {},
   "outputs": [],
   "source": [
    "from sqlalchemy import URL, create_engine\n",
    "import os\n",
    "\n",
    "from dotenv import load_dotenv\n",
    "load_dotenv(dotenv_path=\"./db_init/db.env\")\n",
    "load_dotenv(dotenv_path=\"./dev.env\", override=True)\n",
    "\n",
    "from client.sql_models import Base, LogsBase\n",
    "\n",
    "def read_pwd_file(file_path:str) -> str:\n",
    "    with open(file=file_path, mode=\"r\") as pwd_file:\n",
    "        pwd = pwd_file.readline().replace(\"\\n\", \"\")\n",
    "    return pwd\n",
    "\n",
    "connect_args = {\n",
    "    \"ssl\": {\n",
    "        \"ca\"                : os.getenv(\"CLIENT_CERTIF_PATH\") + \"ca-cert.pem\",\n",
    "        \"cert\"              : os.getenv(\"CLIENT_CERTIF_PATH\") + \"client-cert.pem\",\n",
    "        \"key\"               : os.getenv(\"CLIENT_CERTIF_PATH\") + \"client-key.pem\",\n",
    "        \"check_hostname\"    : False,\n",
    "    }\n",
    "}\n",
    "\n",
    "sql_logs_url = URL.create(\n",
    "    drivername=\"mariadb+pymysql\",\n",
    "    username=read_pwd_file(\"./db_init/mariadb_log_user_name\"),\n",
    "    password=read_pwd_file(\"./db_init/mariadb_log_user_pwd\"),\n",
    "    host=\"localhost\",\n",
    "    port=3306,\n",
    "    database=os.getenv(\"MARIADB_FOR_LOGS\"),\n",
    ")\n",
    "logs_engine = create_engine(\n",
    "    url=sql_logs_url\n",
    "    , connect_args=connect_args\n",
    ")\n",
    "LogsBase.metadata.create_all(logs_engine)"
   ]
  }
 ],
 "metadata": {
  "kernelspec": {
   "display_name": "projet_certif",
   "language": "python",
   "name": "python3"
  },
  "language_info": {
   "codemirror_mode": {
    "name": "ipython",
    "version": 3
   },
   "file_extension": ".py",
   "mimetype": "text/x-python",
   "name": "python",
   "nbconvert_exporter": "python",
   "pygments_lexer": "ipython3",
   "version": "3.12.2"
  }
 },
 "nbformat": 4,
 "nbformat_minor": 2
}
