{
 "cells": [
  {
   "cell_type": "code",
   "execution_count": 35,
   "metadata": {},
   "outputs": [],
   "source": [
    "class Essai():\n",
    "    name        : str\n",
    "    doc_type    : str = 'abc'\n",
    "    id          : int\n",
    "\n",
    "    def __init__(self, doc_type : str | None = None) -> None:\n",
    "        self.name = 'essai'\n",
    "        if doc_type :\n",
    "            self.doc_type = doc_type \n",
    "    \n",
    "    # @property\n",
    "    def val(self) -> list[str]:\n",
    "        out_list = list()\n",
    "        if self.doc_type :\n",
    "            for l in self.doc_type :\n",
    "                out_list.append(l)\n",
    "            return out_list\n",
    "        else :\n",
    "            return None\n"
   ]
  },
  {
   "cell_type": "code",
   "execution_count": 36,
   "metadata": {},
   "outputs": [],
   "source": [
    "from pydantic import BaseModel\n",
    "\n",
    "class Essais(BaseModel):\n",
    "    name : str\n",
    "    val : list[str]\n",
    "\n",
    "    class Config:\n",
    "        from_attributes = True"
   ]
  },
  {
   "cell_type": "code",
   "execution_count": null,
   "metadata": {},
   "outputs": [],
   "source": []
  },
  {
   "cell_type": "code",
   "execution_count": 37,
   "metadata": {},
   "outputs": [],
   "source": [
    "essai = Essai(doc_type=\"bac\")\n",
    "essai2 = Essai()"
   ]
  },
  {
   "cell_type": "code",
   "execution_count": 38,
   "metadata": {},
   "outputs": [
    {
     "ename": "ValidationError",
     "evalue": "1 validation error for Essais\nval\n  Input should be a valid list [type=list_type, input_value=<bound method Essai.val o... object at 0x108313710>>, input_type=method]\n    For further information visit https://errors.pydantic.dev/2.6/v/list_type",
     "output_type": "error",
     "traceback": [
      "\u001b[0;31m---------------------------------------------------------------------------\u001b[0m",
      "\u001b[0;31mValidationError\u001b[0m                           Traceback (most recent call last)",
      "Cell \u001b[0;32mIn[38], line 1\u001b[0m\n\u001b[0;32m----> 1\u001b[0m essai_py \u001b[38;5;241m=\u001b[39m \u001b[43mEssais\u001b[49m\u001b[38;5;241;43m.\u001b[39;49m\u001b[43mmodel_validate\u001b[49m\u001b[43m(\u001b[49m\u001b[43messai\u001b[49m\u001b[43m)\u001b[49m\n",
      "File \u001b[0;32m~/miniconda3/envs/projet_certif/lib/python3.12/site-packages/pydantic/main.py:509\u001b[0m, in \u001b[0;36mBaseModel.model_validate\u001b[0;34m(cls, obj, strict, from_attributes, context)\u001b[0m\n\u001b[1;32m    507\u001b[0m \u001b[38;5;66;03m# `__tracebackhide__` tells pytest and some other tools to omit this function from tracebacks\u001b[39;00m\n\u001b[1;32m    508\u001b[0m __tracebackhide__ \u001b[38;5;241m=\u001b[39m \u001b[38;5;28;01mTrue\u001b[39;00m\n\u001b[0;32m--> 509\u001b[0m \u001b[38;5;28;01mreturn\u001b[39;00m \u001b[38;5;28;43mcls\u001b[39;49m\u001b[38;5;241;43m.\u001b[39;49m\u001b[43m__pydantic_validator__\u001b[49m\u001b[38;5;241;43m.\u001b[39;49m\u001b[43mvalidate_python\u001b[49m\u001b[43m(\u001b[49m\n\u001b[1;32m    510\u001b[0m \u001b[43m    \u001b[49m\u001b[43mobj\u001b[49m\u001b[43m,\u001b[49m\u001b[43m \u001b[49m\u001b[43mstrict\u001b[49m\u001b[38;5;241;43m=\u001b[39;49m\u001b[43mstrict\u001b[49m\u001b[43m,\u001b[49m\u001b[43m \u001b[49m\u001b[43mfrom_attributes\u001b[49m\u001b[38;5;241;43m=\u001b[39;49m\u001b[43mfrom_attributes\u001b[49m\u001b[43m,\u001b[49m\u001b[43m \u001b[49m\u001b[43mcontext\u001b[49m\u001b[38;5;241;43m=\u001b[39;49m\u001b[43mcontext\u001b[49m\n\u001b[1;32m    511\u001b[0m \u001b[43m\u001b[49m\u001b[43m)\u001b[49m\n",
      "\u001b[0;31mValidationError\u001b[0m: 1 validation error for Essais\nval\n  Input should be a valid list [type=list_type, input_value=<bound method Essai.val o... object at 0x108313710>>, input_type=method]\n    For further information visit https://errors.pydantic.dev/2.6/v/list_type"
     ]
    }
   ],
   "source": [
    "essai_py = Essais.model_validate(essai)"
   ]
  },
  {
   "cell_type": "code",
   "execution_count": 34,
   "metadata": {},
   "outputs": [
    {
     "data": {
      "text/plain": [
       "'essai'"
      ]
     },
     "execution_count": 34,
     "metadata": {},
     "output_type": "execute_result"
    }
   ],
   "source": [
    "essai_py.name"
   ]
  },
  {
   "cell_type": "code",
   "execution_count": 14,
   "metadata": {},
   "outputs": [
    {
     "data": {
      "text/plain": [
       "'abc'"
      ]
     },
     "execution_count": 14,
     "metadata": {},
     "output_type": "execute_result"
    }
   ],
   "source": [
    "essai.doc_type\n",
    "essai2.doc_type"
   ]
  },
  {
   "cell_type": "code",
   "execution_count": 1,
   "metadata": {},
   "outputs": [],
   "source": [
    "import logging as lg\n",
    "lg.info('essai')"
   ]
  },
  {
   "cell_type": "code",
   "execution_count": 1,
   "metadata": {},
   "outputs": [],
   "source": [
    "import jose"
   ]
  },
  {
   "cell_type": "code",
   "execution_count": 3,
   "metadata": {},
   "outputs": [],
   "source": [
    "from jose import JWTError, jwt"
   ]
  },
  {
   "cell_type": "code",
   "execution_count": 4,
   "metadata": {},
   "outputs": [
    {
     "data": {
      "text/plain": [
       "{'version': 1,\n",
       " 'disable_existing_loggers': False,\n",
       " 'formatters': {'default': {'()': 'uvicorn.logging.DefaultFormatter',\n",
       "   'fmt': '%(levelprefix)s %(message)s',\n",
       "   'use_colors': None},\n",
       "  'access': {'()': 'uvicorn.logging.AccessFormatter',\n",
       "   'fmt': '%(levelprefix)s %(client_addr)s - \"%(request_line)s\" %(status_code)s'}},\n",
       " 'handlers': {'default': {'formatter': 'default',\n",
       "   'class': 'logging.StreamHandler',\n",
       "   'stream': 'ext://sys.stderr'},\n",
       "  'access': {'formatter': 'access',\n",
       "   'class': 'logging.StreamHandler',\n",
       "   'stream': 'ext://sys.stdout'}},\n",
       " 'loggers': {'uvicorn': {'handlers': ['default'],\n",
       "   'level': 'INFO',\n",
       "   'propagate': False},\n",
       "  'uvicorn.error': {'level': 'INFO'},\n",
       "  'uvicorn.access': {'handlers': ['access'],\n",
       "   'level': 'INFO',\n",
       "   'propagate': False}}}"
      ]
     },
     "execution_count": 4,
     "metadata": {},
     "output_type": "execute_result"
    }
   ],
   "source": [
    "import uvicorn\n",
    "\n",
    "uvicorn.config.LOGGING_CONFIG"
   ]
  },
  {
   "cell_type": "code",
   "execution_count": 6,
   "metadata": {},
   "outputs": [
    {
     "data": {
      "text/plain": [
       "'{\"version\": 1, \"disable_existing_loggers\": false, \"formatters\": {\"default\": {\"()\": \"uvicorn.logging.DefaultFormatter\", \"fmt\": \"%(levelprefix)s %(message)s\", \"use_colors\": null}, \"access\": {\"()\": \"uvicorn.logging.AccessFormatter\", \"fmt\": \"%(levelprefix)s %(client_addr)s - \\\\\"%(request_line)s\\\\\" %(status_code)s\"}}, \"handlers\": {\"default\": {\"formatter\": \"default\", \"class\": \"logging.StreamHandler\", \"stream\": \"ext://sys.stderr\"}, \"access\": {\"formatter\": \"access\", \"class\": \"logging.StreamHandler\", \"stream\": \"ext://sys.stdout\"}}, \"loggers\": {\"uvicorn\": {\"handlers\": [\"default\"], \"level\": \"INFO\", \"propagate\": false}, \"uvicorn.error\": {\"level\": \"INFO\"}, \"uvicorn.access\": {\"handlers\": [\"access\"], \"level\": \"INFO\", \"propagate\": false}}}'"
      ]
     },
     "execution_count": 6,
     "metadata": {},
     "output_type": "execute_result"
    }
   ],
   "source": [
    "import json\n",
    "json.dumps(uvicorn.config.LOGGING_CONFIG)"
   ]
  }
 ],
 "metadata": {
  "kernelspec": {
   "display_name": "projet_certif",
   "language": "python",
   "name": "python3"
  },
  "language_info": {
   "codemirror_mode": {
    "name": "ipython",
    "version": 3
   },
   "file_extension": ".py",
   "mimetype": "text/x-python",
   "name": "python",
   "nbconvert_exporter": "python",
   "pygments_lexer": "ipython3",
   "version": "3.12.2"
  }
 },
 "nbformat": 4,
 "nbformat_minor": 2
}
