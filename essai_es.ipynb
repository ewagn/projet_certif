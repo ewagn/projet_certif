{
 "cells": [
  {
   "cell_type": "code",
   "execution_count": 1,
   "metadata": {},
   "outputs": [],
   "source": [
    "from elasticsearch import Elasticsearch\n",
    "from dotenv import load_dotenv\n",
    "load_dotenv('.env')\n",
    "import os"
   ]
  },
  {
   "cell_type": "code",
   "execution_count": 2,
   "metadata": {},
   "outputs": [],
   "source": [
    "es = Elasticsearch(\n",
    "        hosts=[{'host': 'localhost', 'port': 9200, 'scheme': 'https'}],\n",
    "        ssl_assert_hostname='es01',\n",
    "        basic_auth=('elastic', os.getenv('ELASTIC_PASSWORD')),\n",
    "    # cert_reqs=\"CERT_REQUIRED\",\n",
    "        ca_certs=\"./certifs/es/ca/ca.crt\")"
   ]
  },
  {
   "cell_type": "code",
   "execution_count": 3,
   "metadata": {},
   "outputs": [
    {
     "data": {
      "text/plain": [
       "ObjectApiResponse({'name': 'es01', 'cluster_name': 'iserarchapp-cluster', 'cluster_uuid': 'yYYtyh6tTFOxUWoYsu2CPw', 'version': {'number': '8.12.2', 'build_flavor': 'default', 'build_type': 'docker', 'build_hash': '48a287ab9497e852de30327444b0809e55d46466', 'build_date': '2024-02-19T10:04:32.774273190Z', 'build_snapshot': False, 'lucene_version': '9.9.2', 'minimum_wire_compatibility_version': '7.17.0', 'minimum_index_compatibility_version': '7.0.0'}, 'tagline': 'You Know, for Search'})"
      ]
     },
     "execution_count": 3,
     "metadata": {},
     "output_type": "execute_result"
    }
   ],
   "source": [
    "es.info()"
   ]
  },
  {
   "cell_type": "code",
   "execution_count": 17,
   "metadata": {},
   "outputs": [],
   "source": [
    "query = {\n",
    "    \"bool\"  :   {\n",
    "        \"should\"    :   [\n",
    "            {\"match\" : { \"title\": { \"query\": \"essai\", \"fuzziness\": \"AUTO\"}}},\n",
    "            {\"match\" : { \"issn\": { \"query\": \"essai\"}}},\n",
    "        ]\n",
    "    },\n",
    "   }\n",
    "# query = {\"match\" : { \"title\": { \"query\": \"essai\"}}}\n",
    "sort_order = {\n",
    "    \"sort\"  :   [\"_score\"]\n",
    "}"
   ]
  },
  {
   "cell_type": "code",
   "execution_count": 19,
   "metadata": {},
   "outputs": [
    {
     "data": {
      "text/plain": [
       "ObjectApiResponse({'took': 73, 'timed_out': False, '_shards': {'total': 1, 'successful': 1, 'skipped': 0, 'failed': 0}, 'hits': {'total': {'value': 0, 'relation': 'eq'}, 'max_score': None, 'hits': []}})"
      ]
     },
     "execution_count": 19,
     "metadata": {},
     "output_type": "execute_result"
    }
   ],
   "source": [
    "es.search(index='pdf_files', query=query, sort=[\"_score\"])"
   ]
  }
 ],
 "metadata": {
  "kernelspec": {
   "display_name": "projet_certif",
   "language": "python",
   "name": "python3"
  },
  "language_info": {
   "codemirror_mode": {
    "name": "ipython",
    "version": 3
   },
   "file_extension": ".py",
   "mimetype": "text/x-python",
   "name": "python",
   "nbconvert_exporter": "python",
   "pygments_lexer": "ipython3",
   "version": "3.12.2"
  }
 },
 "nbformat": 4,
 "nbformat_minor": 2
}
