{
 "cells": [
  {
   "cell_type": "code",
   "execution_count": 50,
   "metadata": {},
   "outputs": [],
   "source": [
    "import asyncio\n",
    "from concurrent.futures import ThreadPoolExecutor\n",
    "\n",
    "async def a_essai():\n",
    "    print(\"déarrage de la coroutine\")\n",
    "    await asyncio.sleep(3)\n",
    "    print(\"fin de la coroutine\")\n",
    "async def a_essai_2():\n",
    "    print(\"démarrage de la coroutine 2\")\n",
    "    await asyncio.sleep(3)\n",
    "    print(\"fin de la coroutine 2\")\n",
    "\n",
    "loop = asyncio.get_running_loop()\n",
    "with ThreadPoolExecutor() as pool :\n",
    "    coro1 = await loop.run_in_executor(pool, a_essai)\n",
    "    coro2 = await loop.run_in_executor(pool, a_essai_2)\n",
    "\n",
    "result2 =  coro2\n",
    "result1 =  coro1"
   ]
  },
  {
   "cell_type": "code",
   "execution_count": 54,
   "metadata": {},
   "outputs": [
    {
     "data": {
      "text/plain": [
       "False"
      ]
     },
     "execution_count": 54,
     "metadata": {},
     "output_type": "execute_result"
    }
   ],
   "source": [
    "result1."
   ]
  },
  {
   "cell_type": "code",
   "execution_count": 85,
   "metadata": {},
   "outputs": [
    {
     "name": "stdout",
     "output_type": "stream",
     "text": [
      "Démarrage de la coro\n",
      "hello\n",
      "0\n",
      "1\n",
      "2\n",
      "Hello, World\n",
      "Démarrage de la coro\n",
      "hello\n",
      "0\n",
      "1\n",
      "2\n",
      "Hello, Asyncio\n"
     ]
    }
   ],
   "source": [
    "import asyncio\n",
    "import time\n",
    "\n",
    "async def say_hello():\n",
    "    time.sleep(2)\n",
    "    print('hello')\n",
    "\n",
    "async def new_message():\n",
    "    await say_hello()\n",
    "\n",
    "async def print_message(message: str, delay: int) -> None:\n",
    "    print(\"Démarrage de la coro\")\n",
    "    await new_message()\n",
    "    for i in range(3):\n",
    "        print(i)\n",
    "        time.sleep(1)\n",
    "    \n",
    "\n",
    "    # await asyncio.sleep(delay)\n",
    "    print(message)\n",
    "\n",
    "\n",
    "async def main():\n",
    "    # Create task objects\n",
    "    task1 = asyncio.create_task(print_message('Hello, World', 1))\n",
    "    task2 = asyncio.create_task(print_message('Hello, Asyncio', 1))\n",
    "    \n",
    "    # Await tasks to get the results\n",
    "    # print(\"hello\")\n",
    "    asyncio.gather(task1, task2)\n",
    "    # await task1\n",
    "    # print(\"bye\")\n",
    "    # await task2\n",
    "await main()"
   ]
  },
  {
   "cell_type": "code",
   "execution_count": null,
   "metadata": {},
   "outputs": [],
   "source": []
  }
 ],
 "metadata": {
  "kernelspec": {
   "display_name": "projet_certif",
   "language": "python",
   "name": "python3"
  },
  "language_info": {
   "codemirror_mode": {
    "name": "ipython",
    "version": 3
   },
   "file_extension": ".py",
   "mimetype": "text/x-python",
   "name": "python",
   "nbconvert_exporter": "python",
   "pygments_lexer": "ipython3",
   "version": "3.12.2"
  }
 },
 "nbformat": 4,
 "nbformat_minor": 2
}
