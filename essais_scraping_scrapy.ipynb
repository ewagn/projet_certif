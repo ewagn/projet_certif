{
 "cells": [
  {
   "cell_type": "code",
   "execution_count": 2,
   "metadata": {},
   "outputs": [],
   "source": [
    "chrome_headers = {'accept': 'text/html,application/xhtml+xml,application/xml;q=0.9,image/avif,image/webp,image/apng,*/*;q=0.8,application/signed-exchange;v=b3;q=0.9',\n",
    " 'accept-encoding': 'gzip, deflate, br',\n",
    " 'accept-language': 'fr-FR,fr;q=0.9,en-US;q=0.8,en;q=0.7',\n",
    " 'cache-control': 'max-age=0',\n",
    " 'sec-fetch-dest': 'document',\n",
    " 'sec-fetch-mode': 'navigate',\n",
    " 'sec-fetch-site': 'same-origin',\n",
    " 'sec-fetch-user': '?1',\n",
    " 'upgrade-insecure-requests': '1',\n",
    " 'user-agent': 'Mozilla/5.0 (Windows NT 10.0; Win64; x64) AppleWebKit/537.36 (KHTML, like Gecko) Chrome/95.0.4638.69 Safari/537.36'}"
   ]
  },
  {
   "cell_type": "code",
   "execution_count": 22,
   "metadata": {},
   "outputs": [
    {
     "name": "stderr",
     "output_type": "stream",
     "text": [
      "/Users/etiennewagner/miniconda3/envs/projet_certif/lib/python3.12/site-packages/urllib3/connectionpool.py:1103: InsecureRequestWarning: Unverified HTTPS request is being made to host 'proxy.zenrows.com'. Adding certificate verification is strongly advised. See: https://urllib3.readthedocs.io/en/latest/advanced-usage.html#tls-warnings\n",
      "  warnings.warn(\n"
     ]
    }
   ],
   "source": [
    "import requests\n",
    "from bs4 import BeautifulSoup\n",
    "from urllib.parse import urlencode\n",
    "url = {'url': \"https://scholar.google.com/scholar?hl=en&as_sdt=0%2C5&q=vector+database&btnG=''\"}\n",
    "url_proxy = f'http://api.zenrows.com/v1/?apikey={'d6fc149625ce83d100e1d39567f8ef5c1ee9dbbb'}&{urlencode(url)}'\n",
    "proxies_url = \"http://d6fc149625ce83d100e1d39567f8ef5c1ee9dbbb:@proxy.zenrows.com:8001\"\n",
    "proxies = {\"http\": proxies_url, \"https\": proxies_url}\n",
    "page = requests.get(url=\"https://scholar.google.com/scholar?hl=en&as_sdt=0%2C5&q=vector+database&btnG=\", headers=chrome_headers, proxies=proxies, verify=False)"
   ]
  },
  {
   "cell_type": "code",
   "execution_count": 23,
   "metadata": {},
   "outputs": [],
   "source": [
    "html = page.content"
   ]
  },
  {
   "cell_type": "code",
   "execution_count": 24,
   "metadata": {},
   "outputs": [],
   "source": [
    "soup = BeautifulSoup(html, \"html.parser\")\n",
    "results = soup.find_all('div', attrs={'class' : \"gs_r gs_or gs_scl\"})"
   ]
  },
  {
   "cell_type": "code",
   "execution_count": 25,
   "metadata": {},
   "outputs": [
    {
     "data": {
      "text/plain": [
       "[<div class=\"gs_r gs_or gs_scl\" data-aid=\"EDXPb77wTRcJ\" data-cid=\"EDXPb77wTRcJ\" data-did=\"EDXPb77wTRcJ\" data-lid=\"\" data-rp=\"0\"><div class=\"gs_ggs gs_fl\"><div class=\"gs_ggsd\"><div class=\"gs_or_ggsm\" ontouchstart=\"gs_evt_dsp(event)\" tabindex=\"-1\"><a data-clk=\"hl=en&amp;sa=T&amp;oi=gga&amp;ct=gga&amp;cd=0&amp;d=1679262936789366032&amp;ei=47lkZrjjBaaty9YPybqgQA\" data-clk-atid=\"EDXPb77wTRcJ\" href=\"https://journals.plos.org/plosone/article/file?id=10.1371/journal.pone.0028347&amp;type=printable\"><span class=\"gs_ctg2\">[PDF]</span> plos.org</a></div></div></div><div class=\"gs_ri\"><h3 class=\"gs_rt\" ontouchstart=\"gs_evt_dsp(event)\"><a data-clk=\"hl=en&amp;sa=T&amp;ct=res&amp;cd=0&amp;d=1679262936789366032&amp;ei=47lkZrjjBaaty9YPybqgQA\" data-clk-atid=\"EDXPb77wTRcJ\" href=\"https://journals.plos.org/plosone/article?id=10.1371/journal.pone.0028347\" id=\"EDXPb77wTRcJ\">Nigeria <i>Anopheles</i> <b>Vector Database</b>: An Overview of 100 Years' Research</a></h3><div class=\"gs_a\">PN Okorie, FE McKenzie, <a href=\"/citations?user=x5qGbAIAAAAJ&amp;hl=en&amp;oi=sra\">OG Ademowo</a>, <a href=\"/citations?user=O2EJzK4AAAAJ&amp;hl=en&amp;oi=sra\">M Bockarie</a>… - Plos one, 2011 - journals.plos.org</div><div class=\"gs_rs\">… The aim of this study was to compile a national <b>database</b> on the Anopheles <b>vectors</b> of malaria <br/>\n",
       " and … This <b>database</b> will provide an essential baseline on Anopheles <b>vectors</b> and will be an …</div><div class=\"gs_fl gs_flb\"><a class=\"gs_or_sav gs_or_btn\" href=\"javascript:void(0)\" role=\"button\"><svg class=\"gs_or_svg\" viewbox=\"0 0 15 16\"><path d=\"M7.5 11.57l3.824 2.308-1.015-4.35 3.379-2.926-4.45-.378L7.5 2.122 5.761 6.224l-4.449.378 3.379 2.926-1.015 4.35z\"></path></svg><span class=\"gs_or_btn_lbl\">Save</span></a> <a aria-controls=\"gs_cit\" aria-haspopup=\"true\" class=\"gs_or_cit gs_or_btn gs_nph\" href=\"javascript:void(0)\" role=\"button\"><svg class=\"gs_or_svg\" viewbox=\"0 0 15 16\"><path d=\"M6.5 3.5H1.5V8.5H3.75L1.75 12.5H4.75L6.5 9V3.5zM13.5 3.5H8.5V8.5H10.75L8.75 12.5H11.75L13.5 9V3.5z\"></path></svg><span>Cite</span></a> <a href=\"/scholar?cites=1679262936789366032&amp;as_sdt=2005&amp;sciodt=0,5&amp;hl=en\">Cited by 98</a> <a href=\"/scholar?q=related:EDXPb77wTRcJ:scholar.google.com/&amp;scioq=vector+database&amp;hl=en&amp;as_sdt=0,5\">Related articles</a> <a class=\"gs_nph\" href=\"/scholar?cluster=1679262936789366032&amp;hl=en&amp;as_sdt=0,5\">All 17 versions</a> <a class=\"gs_or_mor\" href=\"javascript:void(0)\" role=\"button\" title=\"More\"><svg class=\"gs_or_svg\" viewbox=\"0 0 15 16\"><path d=\"M0.75 5.5l2-2L7.25 8l-4.5 4.5-2-2L3.25 8zM7.75 5.5l2-2L14.25 8l-4.5 4.5-2-2L10.25 8z\"></path></svg></a> <a class=\"gs_or_nvi\" href=\"https://scholar.googleusercontent.com/scholar?q=cache:EDXPb77wTRcJ:scholar.google.com/+vector+database&amp;hl=en&amp;as_sdt=0,5\">Cached</a> <a class=\"gs_or_nvi gs_or_mor\" href=\"javascript:void(0)\" role=\"button\" title=\"Fewer\"><svg class=\"gs_or_svg\" viewbox=\"0 0 15 16\"><path d=\"M7.25 5.5l-2-2L0.75 8l4.5 4.5 2-2L4.75 8zM14.25 5.5l-2-2L7.75 8l4.5 4.5 2-2L11.75 8z\"></path></svg></a></div></div></div>,\n",
       " <div class=\"gs_r gs_or gs_scl\" data-aid=\"AwOssZNONOYJ\" data-cid=\"AwOssZNONOYJ\" data-did=\"AwOssZNONOYJ\" data-lid=\"\" data-rp=\"1\"><div class=\"gs_ri\"><h3 class=\"gs_rt\" ontouchstart=\"gs_evt_dsp(event)\"><a data-clk=\"hl=en&amp;sa=T&amp;ct=res&amp;cd=1&amp;d=16587969723760378627&amp;ei=47lkZrjjBaaty9YPybqgQA\" data-clk-atid=\"AwOssZNONOYJ\" href=\"https://www.sciencedirect.com/science/article/pii/S1389128600000463\" id=\"AwOssZNONOYJ\">The term <b>vector database</b>: fast access to indexing terms for web pages</a></h3><div class=\"gs_a\"><a href=\"/citations?user=y_YQmJMAAAAJ&amp;hl=en&amp;oi=sra\">R Stata</a>, K Bharat, F Maghoul - Computer Networks, 2000 - Elsevier</div><div class=\"gs_rs\">… be impractical without such a <b>database</b>. This paper describes the Term <b>Vector</b> <b>Database</b> in <br/>\n",
       " detail. It also reports on two applications built on top of the <b>database</b>. The first application is …</div><div class=\"gs_fl gs_flb\"><a class=\"gs_or_sav gs_or_btn\" href=\"javascript:void(0)\" role=\"button\"><svg class=\"gs_or_svg\" viewbox=\"0 0 15 16\"><path d=\"M7.5 11.57l3.824 2.308-1.015-4.35 3.379-2.926-4.45-.378L7.5 2.122 5.761 6.224l-4.449.378 3.379 2.926-1.015 4.35z\"></path></svg><span class=\"gs_or_btn_lbl\">Save</span></a> <a aria-controls=\"gs_cit\" aria-haspopup=\"true\" class=\"gs_or_cit gs_or_btn gs_nph\" href=\"javascript:void(0)\" role=\"button\"><svg class=\"gs_or_svg\" viewbox=\"0 0 15 16\"><path d=\"M6.5 3.5H1.5V8.5H3.75L1.75 12.5H4.75L6.5 9V3.5zM13.5 3.5H8.5V8.5H10.75L8.75 12.5H11.75L13.5 9V3.5z\"></path></svg><span>Cite</span></a> <a href=\"/scholar?cites=16587969723760378627&amp;as_sdt=2005&amp;sciodt=0,5&amp;hl=en\">Cited by 64</a> <a href=\"/scholar?q=related:AwOssZNONOYJ:scholar.google.com/&amp;scioq=vector+database&amp;hl=en&amp;as_sdt=0,5\">Related articles</a> <a class=\"gs_nph\" href=\"/scholar?cluster=16587969723760378627&amp;hl=en&amp;as_sdt=0,5\">All 5 versions</a> <a class=\"gs_or_mor gs_oph\" href=\"javascript:void(0)\" role=\"button\" title=\"More\"><svg class=\"gs_or_svg\" viewbox=\"0 0 15 16\"><path d=\"M0.75 5.5l2-2L7.25 8l-4.5 4.5-2-2L3.25 8zM7.75 5.5l2-2L14.25 8l-4.5 4.5-2-2L10.25 8z\"></path></svg></a> <a class=\"gs_or_nvi gs_or_mor\" href=\"javascript:void(0)\" role=\"button\" title=\"Fewer\"><svg class=\"gs_or_svg\" viewbox=\"0 0 15 16\"><path d=\"M7.25 5.5l-2-2L0.75 8l4.5 4.5 2-2L4.75 8zM14.25 5.5l-2-2L7.75 8l4.5 4.5 2-2L11.75 8z\"></path></svg></a></div></div></div>,\n",
       " <div class=\"gs_r gs_or gs_scl\" data-aid=\"gJ4_o7cTlNwJ\" data-cid=\"gJ4_o7cTlNwJ\" data-did=\"gJ4_o7cTlNwJ\" data-lid=\"\" data-rp=\"2\"><div class=\"gs_ggs gs_fl\"><div class=\"gs_ggsd\"><div class=\"gs_or_ggsm\" ontouchstart=\"gs_evt_dsp(event)\" tabindex=\"-1\"><a data-clk=\"hl=en&amp;sa=T&amp;oi=gga&amp;ct=gga&amp;cd=2&amp;d=15894350664336121472&amp;ei=47lkZrjjBaaty9YPybqgQA\" data-clk-atid=\"gJ4_o7cTlNwJ\" href=\"https://arxiv.org/pdf/2206.13843\"><span class=\"gs_ctg2\">[PDF]</span> arxiv.org</a></div></div></div><div class=\"gs_ri\"><h3 class=\"gs_rt\" ontouchstart=\"gs_evt_dsp(event)\"><a data-clk=\"hl=en&amp;sa=T&amp;ct=res&amp;cd=2&amp;d=15894350664336121472&amp;ei=47lkZrjjBaaty9YPybqgQA\" data-clk-atid=\"gJ4_o7cTlNwJ\" href=\"https://arxiv.org/abs/2206.13843\" id=\"gJ4_o7cTlNwJ\">Manu: a cloud native <b>vector database </b>management system</a></h3><div class=\"gs_a\">R Guo, X Luan, <a href=\"/citations?user=2xQDdCYAAAAJ&amp;hl=en&amp;oi=sra\">L Xiang</a>, <a href=\"/citations?user=rzNoyOIAAAAJ&amp;hl=en&amp;oi=sra\">X Yan</a>, <a href=\"/citations?user=j9GZDm8AAAAJ&amp;hl=en&amp;oi=sra\">X Yi</a>, J Luo… - arXiv preprint arXiv …, 2022 - arxiv.org</div><div class=\"gs_rs\">… and horizontally scalable <b>vector</b> <b>databases</b> are necessary. In … that next-generation <b>vector</b> <br/>\n",
       " <b>databases</b> should have, which … We present Manu, a cloud native <b>vector</b> <b>database</b> that imple…</div><div class=\"gs_fl gs_flb\"><a class=\"gs_or_sav gs_or_btn\" href=\"javascript:void(0)\" role=\"button\"><svg class=\"gs_or_svg\" viewbox=\"0 0 15 16\"><path d=\"M7.5 11.57l3.824 2.308-1.015-4.35 3.379-2.926-4.45-.378L7.5 2.122 5.761 6.224l-4.449.378 3.379 2.926-1.015 4.35z\"></path></svg><span class=\"gs_or_btn_lbl\">Save</span></a> <a aria-controls=\"gs_cit\" aria-haspopup=\"true\" class=\"gs_or_cit gs_or_btn gs_nph\" href=\"javascript:void(0)\" role=\"button\"><svg class=\"gs_or_svg\" viewbox=\"0 0 15 16\"><path d=\"M6.5 3.5H1.5V8.5H3.75L1.75 12.5H4.75L6.5 9V3.5zM13.5 3.5H8.5V8.5H10.75L8.75 12.5H11.75L13.5 9V3.5z\"></path></svg><span>Cite</span></a> <a href=\"/scholar?cites=15894350664336121472&amp;as_sdt=2005&amp;sciodt=0,5&amp;hl=en\">Cited by 28</a> <a href=\"/scholar?q=related:gJ4_o7cTlNwJ:scholar.google.com/&amp;scioq=vector+database&amp;hl=en&amp;as_sdt=0,5\">Related articles</a> <a class=\"gs_nph\" href=\"/scholar?cluster=15894350664336121472&amp;hl=en&amp;as_sdt=0,5\">All 4 versions</a> <a class=\"gs_or_mor\" href=\"javascript:void(0)\" role=\"button\" title=\"More\"><svg class=\"gs_or_svg\" viewbox=\"0 0 15 16\"><path d=\"M0.75 5.5l2-2L7.25 8l-4.5 4.5-2-2L3.25 8zM7.75 5.5l2-2L14.25 8l-4.5 4.5-2-2L10.25 8z\"></path></svg></a> <a class=\"gs_or_nvi\" href=\"https://scholar.googleusercontent.com/scholar?q=cache:gJ4_o7cTlNwJ:scholar.google.com/+vector+database&amp;hl=en&amp;as_sdt=0,5\">View as HTML</a> <a class=\"gs_or_nvi gs_or_mor\" href=\"javascript:void(0)\" role=\"button\" title=\"Fewer\"><svg class=\"gs_or_svg\" viewbox=\"0 0 15 16\"><path d=\"M7.25 5.5l-2-2L0.75 8l4.5 4.5 2-2L4.75 8zM14.25 5.5l-2-2L7.75 8l4.5 4.5 2-2L11.75 8z\"></path></svg></a></div></div></div>,\n",
       " <div class=\"gs_r gs_or gs_scl\" data-aid=\"6uLoM1vtl2wJ\" data-cid=\"6uLoM1vtl2wJ\" data-did=\"6uLoM1vtl2wJ\" data-lid=\"\" data-rp=\"3\"><div class=\"gs_ggs gs_fl\"><div class=\"gs_ggsd\"><div class=\"gs_or_ggsm\" ontouchstart=\"gs_evt_dsp(event)\" tabindex=\"-1\"><a data-clk=\"hl=en&amp;sa=T&amp;oi=gga&amp;ct=gga&amp;cd=3&amp;d=7824983853548233450&amp;ei=47lkZrjjBaaty9YPybqgQA\" data-clk-atid=\"6uLoM1vtl2wJ\" href=\"https://arxiv.org/pdf/2310.11703\"><span class=\"gs_ctg2\">[PDF]</span> arxiv.org</a></div></div></div><div class=\"gs_ri\"><h3 class=\"gs_rt\" ontouchstart=\"gs_evt_dsp(event)\"><a data-clk=\"hl=en&amp;sa=T&amp;ct=res&amp;cd=3&amp;d=7824983853548233450&amp;ei=47lkZrjjBaaty9YPybqgQA\" data-clk-atid=\"6uLoM1vtl2wJ\" href=\"https://arxiv.org/abs/2310.11703\" id=\"6uLoM1vtl2wJ\">A comprehensive survey on <b>vector database</b>: Storage and retrieval technique, challenge</a></h3><div class=\"gs_a\"><a href=\"/citations?user=ZJ8VfjcAAAAJ&amp;hl=en&amp;oi=sra\">Y Han</a>, C Liu, <a href=\"/citations?user=5RkXoFMAAAAJ&amp;hl=en&amp;oi=sra\">P Wang</a> - arXiv preprint arXiv:2310.11703, 2023 - arxiv.org</div><div class=\"gs_rs\">… architectures, the approximate nearest neighbor search problem behind <b>vector</b> <b>databases</b> <br/>\n",
       " … of existing challenges for <b>vector</b> <b>databases</b>. Lastly, we sketch how <b>vector</b> <b>databases</b> can be …</div><div class=\"gs_fl gs_flb\"><a class=\"gs_or_sav gs_or_btn\" href=\"javascript:void(0)\" role=\"button\"><svg class=\"gs_or_svg\" viewbox=\"0 0 15 16\"><path d=\"M7.5 11.57l3.824 2.308-1.015-4.35 3.379-2.926-4.45-.378L7.5 2.122 5.761 6.224l-4.449.378 3.379 2.926-1.015 4.35z\"></path></svg><span class=\"gs_or_btn_lbl\">Save</span></a> <a aria-controls=\"gs_cit\" aria-haspopup=\"true\" class=\"gs_or_cit gs_or_btn gs_nph\" href=\"javascript:void(0)\" role=\"button\"><svg class=\"gs_or_svg\" viewbox=\"0 0 15 16\"><path d=\"M6.5 3.5H1.5V8.5H3.75L1.75 12.5H4.75L6.5 9V3.5zM13.5 3.5H8.5V8.5H10.75L8.75 12.5H11.75L13.5 9V3.5z\"></path></svg><span>Cite</span></a> <a href=\"/scholar?cites=7824983853548233450&amp;as_sdt=2005&amp;sciodt=0,5&amp;hl=en\">Cited by 14</a> <a href=\"/scholar?q=related:6uLoM1vtl2wJ:scholar.google.com/&amp;scioq=vector+database&amp;hl=en&amp;as_sdt=0,5\">Related articles</a> <a class=\"gs_nph\" href=\"/scholar?cluster=7824983853548233450&amp;hl=en&amp;as_sdt=0,5\">All 2 versions</a> <a class=\"gs_or_mor\" href=\"javascript:void(0)\" role=\"button\" title=\"More\"><svg class=\"gs_or_svg\" viewbox=\"0 0 15 16\"><path d=\"M0.75 5.5l2-2L7.25 8l-4.5 4.5-2-2L3.25 8zM7.75 5.5l2-2L14.25 8l-4.5 4.5-2-2L10.25 8z\"></path></svg></a> <a class=\"gs_or_nvi\" href=\"https://scholar.googleusercontent.com/scholar?q=cache:6uLoM1vtl2wJ:scholar.google.com/+vector+database&amp;hl=en&amp;as_sdt=0,5\">View as HTML</a> <a class=\"gs_or_nvi gs_or_mor\" href=\"javascript:void(0)\" role=\"button\" title=\"Fewer\"><svg class=\"gs_or_svg\" viewbox=\"0 0 15 16\"><path d=\"M7.25 5.5l-2-2L0.75 8l4.5 4.5 2-2L4.75 8zM14.25 5.5l-2-2L7.75 8l4.5 4.5 2-2L11.75 8z\"></path></svg></a></div></div></div>,\n",
       " <div class=\"gs_r gs_or gs_scl\" data-aid=\"IoPZaX9OABQJ\" data-cid=\"IoPZaX9OABQJ\" data-did=\"IoPZaX9OABQJ\" data-lid=\"\" data-rp=\"4\"><div class=\"gs_ggs gs_fl\"><div class=\"gs_ggsd\"><div class=\"gs_or_ggsm\" ontouchstart=\"gs_evt_dsp(event)\" tabindex=\"-1\"><a data-clk=\"hl=en&amp;sa=T&amp;oi=gga&amp;ct=gga&amp;cd=4&amp;d=1441238189902234402&amp;ei=47lkZrjjBaaty9YPybqgQA\" data-clk-atid=\"IoPZaX9OABQJ\" href=\"https://www.sciencedirect.com/science/article/pii/S1389041724000093\"><span class=\"gs_ctg2\">[HTML]</span> sciencedirect.com</a></div></div></div><div class=\"gs_ri\"><h3 class=\"gs_rt\" ontouchstart=\"gs_evt_dsp(event)\"><span class=\"gs_ctc\"><span class=\"gs_ct1\">[HTML]</span><span class=\"gs_ct2\">[HTML]</span></span> <a data-clk=\"hl=en&amp;sa=T&amp;oi=ggp&amp;ct=res&amp;cd=4&amp;d=1441238189902234402&amp;ei=47lkZrjjBaaty9YPybqgQA\" data-clk-atid=\"IoPZaX9OABQJ\" href=\"https://www.sciencedirect.com/science/article/pii/S1389041724000093\" id=\"IoPZaX9OABQJ\"><b>Vector database </b>management systems: Fundamental concepts, use-cases, and current challenges</a></h3><div class=\"gs_a\"><a href=\"/citations?user=JpjyL4AAAAAJ&amp;hl=en&amp;oi=sra\">T Taipalus</a> - Cognitive Systems Research, 2024 - Elsevier</div><div class=\"gs_rs\">… of fundamental concepts behind <b>vector</b> <b>databases</b> and <b>vector</b> <b>database</b> management systems, <br/>\n",
       " such as different types of <b>vector</b> similarity comparison types, different <b>vector</b> index types, …</div><div class=\"gs_fl gs_flb\"><a class=\"gs_or_sav gs_or_btn\" href=\"javascript:void(0)\" role=\"button\"><svg class=\"gs_or_svg\" viewbox=\"0 0 15 16\"><path d=\"M7.5 11.57l3.824 2.308-1.015-4.35 3.379-2.926-4.45-.378L7.5 2.122 5.761 6.224l-4.449.378 3.379 2.926-1.015 4.35z\"></path></svg><span class=\"gs_or_btn_lbl\">Save</span></a> <a aria-controls=\"gs_cit\" aria-haspopup=\"true\" class=\"gs_or_cit gs_or_btn gs_nph\" href=\"javascript:void(0)\" role=\"button\"><svg class=\"gs_or_svg\" viewbox=\"0 0 15 16\"><path d=\"M6.5 3.5H1.5V8.5H3.75L1.75 12.5H4.75L6.5 9V3.5zM13.5 3.5H8.5V8.5H10.75L8.75 12.5H11.75L13.5 9V3.5z\"></path></svg><span>Cite</span></a> <a href=\"/scholar?cites=1441238189902234402&amp;as_sdt=2005&amp;sciodt=0,5&amp;hl=en\">Cited by 10</a> <a href=\"/scholar?q=related:IoPZaX9OABQJ:scholar.google.com/&amp;scioq=vector+database&amp;hl=en&amp;as_sdt=0,5\">Related articles</a> <a class=\"gs_nph\" href=\"/scholar?cluster=1441238189902234402&amp;hl=en&amp;as_sdt=0,5\">All 5 versions</a> <a class=\"gs_or_mor gs_oph\" href=\"javascript:void(0)\" role=\"button\" title=\"More\"><svg class=\"gs_or_svg\" viewbox=\"0 0 15 16\"><path d=\"M0.75 5.5l2-2L7.25 8l-4.5 4.5-2-2L3.25 8zM7.75 5.5l2-2L14.25 8l-4.5 4.5-2-2L10.25 8z\"></path></svg></a> <a class=\"gs_or_nvi gs_or_mor\" href=\"javascript:void(0)\" role=\"button\" title=\"Fewer\"><svg class=\"gs_or_svg\" viewbox=\"0 0 15 16\"><path d=\"M7.25 5.5l-2-2L0.75 8l4.5 4.5 2-2L4.75 8zM14.25 5.5l-2-2L7.75 8l4.5 4.5 2-2L11.75 8z\"></path></svg></a></div></div></div>,\n",
       " <div class=\"gs_r gs_or gs_scl\" data-aid=\"qSNW6iq87ZwJ\" data-cid=\"qSNW6iq87ZwJ\" data-did=\"qSNW6iq87ZwJ\" data-lid=\"\" data-rp=\"5\"><div class=\"gs_ggs gs_fl\"><div class=\"gs_ggsd\"><div class=\"gs_or_ggsm\" ontouchstart=\"gs_evt_dsp(event)\" tabindex=\"-1\"><a data-clk=\"hl=en&amp;sa=T&amp;oi=gga&amp;ct=gga&amp;cd=5&amp;d=11307901131903345577&amp;ei=47lkZrjjBaaty9YPybqgQA\" data-clk-atid=\"qSNW6iq87ZwJ\" href=\"https://www.cs.purdue.edu/homes/csjgwang/pubs/SIGMOD24_VecDB_Tutorial.pdf\"><span class=\"gs_ctg2\">[PDF]</span> purdue.edu</a></div></div></div><div class=\"gs_ri\"><h3 class=\"gs_rt\" ontouchstart=\"gs_evt_dsp(event)\"><span class=\"gs_ctc\"><span class=\"gs_ct1\">[PDF]</span><span class=\"gs_ct2\">[PDF]</span></span> <a data-clk=\"hl=en&amp;sa=T&amp;oi=ggp&amp;ct=res&amp;cd=5&amp;d=11307901131903345577&amp;ei=47lkZrjjBaaty9YPybqgQA\" data-clk-atid=\"qSNW6iq87ZwJ\" href=\"https://www.cs.purdue.edu/homes/csjgwang/pubs/SIGMOD24_VecDB_Tutorial.pdf\" id=\"qSNW6iq87ZwJ\"><b>Vector Database </b>Management Techniques and Systems.</a></h3><div class=\"gs_a\">JJ Pan, <a href=\"/citations?user=EH2FzosAAAAJ&amp;hl=en&amp;oi=sra\">J Wang</a>, <a href=\"/citations?user=Pi89P8kAAAAJ&amp;hl=en&amp;oi=sra\">G Li</a> - SIGMOD Conference Companion, 2024 - cs.purdue.edu</div><div class=\"gs_rs\">… selection, <b>vector</b> query types, and <b>vector</b> query interfaces. … <b>database</b> researchers interested <br/>\n",
       " in understanding and advancing the state-of-art techniques for large-scale <b>vector</b> <b>database</b> …</div><div class=\"gs_fl gs_flb\"><a class=\"gs_or_sav gs_or_btn\" href=\"javascript:void(0)\" role=\"button\"><svg class=\"gs_or_svg\" viewbox=\"0 0 15 16\"><path d=\"M7.5 11.57l3.824 2.308-1.015-4.35 3.379-2.926-4.45-.378L7.5 2.122 5.761 6.224l-4.449.378 3.379 2.926-1.015 4.35z\"></path></svg><span class=\"gs_or_btn_lbl\">Save</span></a> <a aria-controls=\"gs_cit\" aria-haspopup=\"true\" class=\"gs_or_cit gs_or_btn gs_nph\" href=\"javascript:void(0)\" role=\"button\"><svg class=\"gs_or_svg\" viewbox=\"0 0 15 16\"><path d=\"M6.5 3.5H1.5V8.5H3.75L1.75 12.5H4.75L6.5 9V3.5zM13.5 3.5H8.5V8.5H10.75L8.75 12.5H11.75L13.5 9V3.5z\"></path></svg><span>Cite</span></a> <a href=\"/scholar?cites=11307901131903345577&amp;as_sdt=2005&amp;sciodt=0,5&amp;hl=en\">Cited by 1</a> <a href=\"/scholar?q=related:qSNW6iq87ZwJ:scholar.google.com/&amp;scioq=vector+database&amp;hl=en&amp;as_sdt=0,5\">Related articles</a> <a class=\"gs_nph\" href=\"/scholar?cluster=11307901131903345577&amp;hl=en&amp;as_sdt=0,5\">All 2 versions</a> <a class=\"gs_or_mor\" href=\"javascript:void(0)\" role=\"button\" title=\"More\"><svg class=\"gs_or_svg\" viewbox=\"0 0 15 16\"><path d=\"M0.75 5.5l2-2L7.25 8l-4.5 4.5-2-2L3.25 8zM7.75 5.5l2-2L14.25 8l-4.5 4.5-2-2L10.25 8z\"></path></svg></a> <a class=\"gs_or_nvi\" href=\"https://scholar.googleusercontent.com/scholar?q=cache:qSNW6iq87ZwJ:scholar.google.com/+vector+database&amp;hl=en&amp;as_sdt=0,5\">View as HTML</a> <a class=\"gs_or_nvi gs_or_mor\" href=\"javascript:void(0)\" role=\"button\" title=\"Fewer\"><svg class=\"gs_or_svg\" viewbox=\"0 0 15 16\"><path d=\"M7.25 5.5l-2-2L0.75 8l4.5 4.5 2-2L4.75 8zM14.25 5.5l-2-2L7.75 8l4.5 4.5 2-2L11.75 8z\"></path></svg></a></div></div></div>,\n",
       " <div class=\"gs_r gs_or gs_scl\" data-aid=\"4KixdWEDRR8J\" data-cid=\"4KixdWEDRR8J\" data-did=\"4KixdWEDRR8J\" data-lid=\"\" data-rp=\"6\"><div class=\"gs_ri\"><h3 class=\"gs_rt\" ontouchstart=\"gs_evt_dsp(event)\"><a data-clk=\"hl=en&amp;sa=T&amp;ct=res&amp;cd=6&amp;d=2253210905690089696&amp;ei=47lkZrjjBaaty9YPybqgQA\" data-clk-atid=\"4KixdWEDRR8J\" href=\"https://ieeexplore.ieee.org/abstract/document/10429609/\" id=\"4KixdWEDRR8J\">A Brief Survey of <b>Vector Databases</b></a></h3><div class=\"gs_a\">X Xie, H Liu, W Hou, H Huang - 2023 9th International …, 2023 - ieeexplore.ieee.org</div><div class=\"gs_rs\">… , and video) into <b>vectors</b>. The purpose of this paper is to offer insight into <b>vector</b> <b>databases</b> <br/>\n",
       " by presenting a brief survey. Firstly, the workflow of <b>vector</b> <b>databases</b> including indexing and …</div><div class=\"gs_fl gs_flb\"><a class=\"gs_or_sav gs_or_btn\" href=\"javascript:void(0)\" role=\"button\"><svg class=\"gs_or_svg\" viewbox=\"0 0 15 16\"><path d=\"M7.5 11.57l3.824 2.308-1.015-4.35 3.379-2.926-4.45-.378L7.5 2.122 5.761 6.224l-4.449.378 3.379 2.926-1.015 4.35z\"></path></svg><span class=\"gs_or_btn_lbl\">Save</span></a> <a aria-controls=\"gs_cit\" aria-haspopup=\"true\" class=\"gs_or_cit gs_or_btn gs_nph\" href=\"javascript:void(0)\" role=\"button\"><svg class=\"gs_or_svg\" viewbox=\"0 0 15 16\"><path d=\"M6.5 3.5H1.5V8.5H3.75L1.75 12.5H4.75L6.5 9V3.5zM13.5 3.5H8.5V8.5H10.75L8.75 12.5H11.75L13.5 9V3.5z\"></path></svg><span>Cite</span></a> <a href=\"/scholar?cites=2253210905690089696&amp;as_sdt=2005&amp;sciodt=0,5&amp;hl=en\">Cited by 1</a> <a href=\"/scholar?q=related:4KixdWEDRR8J:scholar.google.com/&amp;scioq=vector+database&amp;hl=en&amp;as_sdt=0,5\">Related articles</a> <a class=\"gs_or_mor gs_oph\" href=\"javascript:void(0)\" role=\"button\" title=\"More\"><svg class=\"gs_or_svg\" viewbox=\"0 0 15 16\"><path d=\"M0.75 5.5l2-2L7.25 8l-4.5 4.5-2-2L3.25 8zM7.75 5.5l2-2L14.25 8l-4.5 4.5-2-2L10.25 8z\"></path></svg></a> <a class=\"gs_or_nvi gs_or_mor\" href=\"javascript:void(0)\" role=\"button\" title=\"Fewer\"><svg class=\"gs_or_svg\" viewbox=\"0 0 15 16\"><path d=\"M7.25 5.5l-2-2L0.75 8l4.5 4.5 2-2L4.75 8zM14.25 5.5l-2-2L7.75 8l4.5 4.5 2-2L11.75 8z\"></path></svg></a></div></div></div>,\n",
       " <div class=\"gs_r gs_or gs_scl\" data-aid=\"3TPWduQblBYJ\" data-cid=\"3TPWduQblBYJ\" data-did=\"3TPWduQblBYJ\" data-lid=\"\" data-rp=\"7\"><div class=\"gs_ggs gs_fl\"><div class=\"gs_ggsd\"><div class=\"gs_or_ggsm\" ontouchstart=\"gs_evt_dsp(event)\" tabindex=\"-1\"><a data-clk=\"hl=en&amp;sa=T&amp;oi=gga&amp;ct=gga&amp;cd=7&amp;d=1626956033447834589&amp;ei=47lkZrjjBaaty9YPybqgQA\" data-clk-atid=\"3TPWduQblBYJ\" href=\"https://ayanmukhopadhyay.github.io/files/icde21.pdf\"><span class=\"gs_ctg2\">[PDF]</span> github.io</a></div></div></div><div class=\"gs_ri\"><h3 class=\"gs_rt\" ontouchstart=\"gs_evt_dsp(event)\"><a data-clk=\"hl=en&amp;sa=T&amp;ct=res&amp;cd=7&amp;d=1626956033447834589&amp;ei=47lkZrjjBaaty9YPybqgQA\" data-clk-atid=\"3TPWduQblBYJ\" href=\"https://ieeexplore.ieee.org/abstract/document/9458857/\" id=\"3TPWduQblBYJ\">Experimental study of big raster and <b>vector database </b>systems</a></h3><div class=\"gs_a\"><a href=\"/citations?user=w8fxTpcAAAAJ&amp;hl=en&amp;oi=sra\">S Singla</a>, <a href=\"/citations?user=ZZOp26AAAAAJ&amp;hl=en&amp;oi=sra\">A Eldawy</a>, <a href=\"/citations?user=lYGF5zkAAAAJ&amp;hl=en&amp;oi=sra\">T Diao</a>… - 2021 IEEE 37th …, 2021 - ieeexplore.ieee.org</div><div class=\"gs_rs\">… models, raster and <b>vector</b>. Raster data refers to satellite imagery while <b>vector</b> data includes <br/>\n",
       " GPS … While there are many real-world applications that need to process both raster and <b>vector</b> …</div><div class=\"gs_fl gs_flb\"><a class=\"gs_or_sav gs_or_btn\" href=\"javascript:void(0)\" role=\"button\"><svg class=\"gs_or_svg\" viewbox=\"0 0 15 16\"><path d=\"M7.5 11.57l3.824 2.308-1.015-4.35 3.379-2.926-4.45-.378L7.5 2.122 5.761 6.224l-4.449.378 3.379 2.926-1.015 4.35z\"></path></svg><span class=\"gs_or_btn_lbl\">Save</span></a> <a aria-controls=\"gs_cit\" aria-haspopup=\"true\" class=\"gs_or_cit gs_or_btn gs_nph\" href=\"javascript:void(0)\" role=\"button\"><svg class=\"gs_or_svg\" viewbox=\"0 0 15 16\"><path d=\"M6.5 3.5H1.5V8.5H3.75L1.75 12.5H4.75L6.5 9V3.5zM13.5 3.5H8.5V8.5H10.75L8.75 12.5H11.75L13.5 9V3.5z\"></path></svg><span>Cite</span></a> <a href=\"/scholar?cites=1626956033447834589&amp;as_sdt=2005&amp;sciodt=0,5&amp;hl=en\">Cited by 10</a> <a href=\"/scholar?q=related:3TPWduQblBYJ:scholar.google.com/&amp;scioq=vector+database&amp;hl=en&amp;as_sdt=0,5\">Related articles</a> <a class=\"gs_nph\" href=\"/scholar?cluster=1626956033447834589&amp;hl=en&amp;as_sdt=0,5\">All 6 versions</a> <a class=\"gs_or_mor gs_oph\" href=\"javascript:void(0)\" role=\"button\" title=\"More\"><svg class=\"gs_or_svg\" viewbox=\"0 0 15 16\"><path d=\"M0.75 5.5l2-2L7.25 8l-4.5 4.5-2-2L3.25 8zM7.75 5.5l2-2L14.25 8l-4.5 4.5-2-2L10.25 8z\"></path></svg></a> <a class=\"gs_or_nvi gs_or_mor\" href=\"javascript:void(0)\" role=\"button\" title=\"Fewer\"><svg class=\"gs_or_svg\" viewbox=\"0 0 15 16\"><path d=\"M7.25 5.5l-2-2L0.75 8l4.5 4.5 2-2L4.75 8zM14.25 5.5l-2-2L7.75 8l4.5 4.5 2-2L11.75 8z\"></path></svg></a></div></div></div>,\n",
       " <div class=\"gs_r gs_or gs_scl\" data-aid=\"3smV99zIih0J\" data-cid=\"3smV99zIih0J\" data-did=\"3smV99zIih0J\" data-lid=\"\" data-rp=\"8\"><div class=\"gs_ggs gs_fl\"><div class=\"gs_ggsd\"><div class=\"gs_or_ggsm\" ontouchstart=\"gs_evt_dsp(event)\" tabindex=\"-1\"><a data-clk=\"hl=en&amp;sa=T&amp;oi=gga&amp;ct=gga&amp;cd=8&amp;d=2128734625258129886&amp;ei=47lkZrjjBaaty9YPybqgQA\" data-clk-atid=\"3smV99zIih0J\" href=\"https://www.cs.albany.edu/~jhh/courses/readings/pirk.pvldb16.pdf\"><span class=\"gs_ctg2\">[PDF]</span> albany.edu</a></div></div></div><div class=\"gs_ri\"><h3 class=\"gs_rt\" ontouchstart=\"gs_evt_dsp(event)\"><a data-clk=\"hl=en&amp;sa=T&amp;ct=res&amp;cd=8&amp;d=2128734625258129886&amp;ei=47lkZrjjBaaty9YPybqgQA\" data-clk-atid=\"3smV99zIih0J\" href=\"https://dl.acm.org/doi/abs/10.14778/3007328.3007336\" id=\"3smV99zIih0J\">Voodoo-a <b>vector </b>algebra for portable <b>database </b>performance on modern hardware</a></h3><div class=\"gs_a\"><a href=\"/citations?user=1jP_gqcAAAAJ&amp;hl=en&amp;oi=sra\">H Pirk</a>, <a href=\"/citations?user=HFjBaaoAAAAJ&amp;hl=en&amp;oi=sra\">O Moll</a>, <a href=\"/citations?user=I1EvjZsAAAAJ&amp;hl=en&amp;oi=sra\">M Zaharia</a>, <a href=\"/citations?user=a1ngrCIAAAAJ&amp;hl=en&amp;oi=sra\">S Madden</a> - Proceedings of the VLDB …, 2016 - dl.acm.org</div><div class=\"gs_rs\">… attributes (which we term control <b>vectors</b>) are attached to data <b>vectors</b>. By tuning the value of <br/>\n",
       " … second <b>vector</b> that we term the control <b>vector</b> of the operation. The control <b>vector</b> effectively …</div><div class=\"gs_fl gs_flb\"><a class=\"gs_or_sav gs_or_btn\" href=\"javascript:void(0)\" role=\"button\"><svg class=\"gs_or_svg\" viewbox=\"0 0 15 16\"><path d=\"M7.5 11.57l3.824 2.308-1.015-4.35 3.379-2.926-4.45-.378L7.5 2.122 5.761 6.224l-4.449.378 3.379 2.926-1.015 4.35z\"></path></svg><span class=\"gs_or_btn_lbl\">Save</span></a> <a aria-controls=\"gs_cit\" aria-haspopup=\"true\" class=\"gs_or_cit gs_or_btn gs_nph\" href=\"javascript:void(0)\" role=\"button\"><svg class=\"gs_or_svg\" viewbox=\"0 0 15 16\"><path d=\"M6.5 3.5H1.5V8.5H3.75L1.75 12.5H4.75L6.5 9V3.5zM13.5 3.5H8.5V8.5H10.75L8.75 12.5H11.75L13.5 9V3.5z\"></path></svg><span>Cite</span></a> <a href=\"/scholar?cites=2128734625258129886&amp;as_sdt=2005&amp;sciodt=0,5&amp;hl=en\">Cited by 140</a> <a href=\"/scholar?q=related:3smV99zIih0J:scholar.google.com/&amp;scioq=vector+database&amp;hl=en&amp;as_sdt=0,5\">Related articles</a> <a class=\"gs_nph\" href=\"/scholar?cluster=2128734625258129886&amp;hl=en&amp;as_sdt=0,5\">All 8 versions</a> <a class=\"gs_or_mor gs_oph\" href=\"javascript:void(0)\" role=\"button\" title=\"More\"><svg class=\"gs_or_svg\" viewbox=\"0 0 15 16\"><path d=\"M0.75 5.5l2-2L7.25 8l-4.5 4.5-2-2L3.25 8zM7.75 5.5l2-2L14.25 8l-4.5 4.5-2-2L10.25 8z\"></path></svg></a> <a class=\"gs_or_nvi gs_or_mor\" href=\"javascript:void(0)\" role=\"button\" title=\"Fewer\"><svg class=\"gs_or_svg\" viewbox=\"0 0 15 16\"><path d=\"M7.25 5.5l-2-2L0.75 8l4.5 4.5 2-2L4.75 8zM14.25 5.5l-2-2L7.75 8l4.5 4.5 2-2L11.75 8z\"></path></svg></a></div></div></div>,\n",
       " <div class=\"gs_r gs_or gs_scl\" data-aid=\"09ocG4Oj5EYJ\" data-cid=\"09ocG4Oj5EYJ\" data-did=\"09ocG4Oj5EYJ\" data-lid=\"\" data-rp=\"9\"><div class=\"gs_ggs gs_fl\"><div class=\"gs_ggsd\"><div class=\"gs_or_ggsm\" ontouchstart=\"gs_evt_dsp(event)\" tabindex=\"-1\"><a data-clk=\"hl=en&amp;sa=T&amp;oi=gga&amp;ct=gga&amp;cd=9&amp;d=5108387660835904211&amp;ei=47lkZrjjBaaty9YPybqgQA\" data-clk-atid=\"09ocG4Oj5EYJ\" href=\"https://academic.oup.com/bioinformatics/article-pdf/15/2/106/48836335/150106.pdf\"><span class=\"gs_ctg2\">[PDF]</span> oup.com</a></div></div></div><div class=\"gs_ri\"><h3 class=\"gs_rt\" ontouchstart=\"gs_evt_dsp(event)\"><a data-clk=\"hl=en&amp;sa=T&amp;ct=res&amp;cd=9&amp;d=5108387660835904211&amp;ei=47lkZrjjBaaty9YPybqgQA\" data-clk-atid=\"09ocG4Oj5EYJ\" href=\"https://academic.oup.com/bioinformatics/article-abstract/15/2/106/196019\" id=\"09ocG4Oj5EYJ\">Establishing a method of <b>vector </b>contamination identification in <b>database </b>sequences.</a></h3><div class=\"gs_a\">GA Seluja, A Farmer, M McLeod… - Bioinformatics …, 1999 - academic.oup.com</div><div class=\"gs_rs\">… examined the issue of <b>vector</b> contamination in the nucleotide sequence <b>database</b> using <br/>\n",
       " 180 <b>vector</b> sequences. We have focused on the presence of <b>vector</b> as a problem arising from …</div><div class=\"gs_fl gs_flb\"><a class=\"gs_or_sav gs_or_btn\" href=\"javascript:void(0)\" role=\"button\"><svg class=\"gs_or_svg\" viewbox=\"0 0 15 16\"><path d=\"M7.5 11.57l3.824 2.308-1.015-4.35 3.379-2.926-4.45-.378L7.5 2.122 5.761 6.224l-4.449.378 3.379 2.926-1.015 4.35z\"></path></svg><span class=\"gs_or_btn_lbl\">Save</span></a> <a aria-controls=\"gs_cit\" aria-haspopup=\"true\" class=\"gs_or_cit gs_or_btn gs_nph\" href=\"javascript:void(0)\" role=\"button\"><svg class=\"gs_or_svg\" viewbox=\"0 0 15 16\"><path d=\"M6.5 3.5H1.5V8.5H3.75L1.75 12.5H4.75L6.5 9V3.5zM13.5 3.5H8.5V8.5H10.75L8.75 12.5H11.75L13.5 9V3.5z\"></path></svg><span>Cite</span></a> <a href=\"/scholar?cites=5108387660835904211&amp;as_sdt=2005&amp;sciodt=0,5&amp;hl=en\">Cited by 39</a> <a href=\"/scholar?q=related:09ocG4Oj5EYJ:scholar.google.com/&amp;scioq=vector+database&amp;hl=en&amp;as_sdt=0,5\">Related articles</a> <a class=\"gs_nph\" href=\"/scholar?cluster=5108387660835904211&amp;hl=en&amp;as_sdt=0,5\">All 6 versions</a> <a class=\"gs_or_mor gs_oph\" href=\"javascript:void(0)\" role=\"button\" title=\"More\"><svg class=\"gs_or_svg\" viewbox=\"0 0 15 16\"><path d=\"M0.75 5.5l2-2L7.25 8l-4.5 4.5-2-2L3.25 8zM7.75 5.5l2-2L14.25 8l-4.5 4.5-2-2L10.25 8z\"></path></svg></a> <a class=\"gs_or_nvi gs_or_mor\" href=\"javascript:void(0)\" role=\"button\" title=\"Fewer\"><svg class=\"gs_or_svg\" viewbox=\"0 0 15 16\"><path d=\"M7.25 5.5l-2-2L0.75 8l4.5 4.5 2-2L4.75 8zM14.25 5.5l-2-2L7.75 8l4.5 4.5 2-2L11.75 8z\"></path></svg></a></div></div></div>]"
      ]
     },
     "execution_count": 25,
     "metadata": {},
     "output_type": "execute_result"
    }
   ],
   "source": [
    "results"
   ]
  },
  {
   "cell_type": "code",
   "execution_count": 26,
   "metadata": {},
   "outputs": [
    {
     "data": {
      "text/plain": [
       "'EDXPb77wTRcJ'"
      ]
     },
     "execution_count": 26,
     "metadata": {},
     "output_type": "execute_result"
    }
   ],
   "source": [
    "results[0].attrs['data-cid']"
   ]
  },
  {
   "cell_type": "code",
   "execution_count": 40,
   "metadata": {},
   "outputs": [],
   "source": [
    "headers={\n",
    "    \"Accept\": \"text/html,application/xhtml+xml,application/xml;q=0.9,*/*;q=0.8\", \n",
    "    \"Accept-Encoding\": \"gzip, deflate\", \n",
    "    \"Accept-Language\": \"fr-FR,fr;q=0.9\", \n",
    "    \"Host\": \"httpbin.org\", \n",
    "    \"Upgrade-Insecure-Requests\": \"1\", \n",
    "    \"User-Agent\": \"Mozilla/5.0 (Macintosh; Intel Mac OS X 10_15_7) AppleWebKit/605.1.15 (KHTML, like Gecko) Version/17.5 Safari/605.1.15\", \n",
    "    \"X-Amzn-Trace-Id\": \"Root=1-6664bbd4-167f9cfd32f964a5177eae14\"\n",
    "  }"
   ]
  },
  {
   "cell_type": "code",
   "execution_count": 38,
   "metadata": {},
   "outputs": [],
   "source": [
    "resp = requests.get(url=\"https://scholar.google.com/scholar?q=info:EDXPb77wTRcJ:scholar.google.com&output=cite\", headers=headers)"
   ]
  },
  {
   "cell_type": "code",
   "execution_count": 39,
   "metadata": {},
   "outputs": [
    {
     "data": {
      "text/plain": [
       "b'<!DOCTYPE html>\\n<html lang=en>\\n  <meta charset=utf-8>\\n  <meta name=viewport content=\"initial-scale=1, minimum-scale=1, width=device-width\">\\n  <title>Error 404 (Not Found)!!1</title>\\n  <style>\\n    *{margin:0;padding:0}html,code{font:15px/22px arial,sans-serif}html{background:#fff;color:#222;padding:15px}body{margin:7% auto 0;max-width:390px;min-height:180px;padding:30px 0 15px}* > body{background:url(//www.google.com/images/errors/robot.png) 100% 5px no-repeat;padding-right:205px}p{margin:11px 0 22px;overflow:hidden}ins{color:#777;text-decoration:none}a img{border:0}@media screen and (max-width:772px){body{background:none;margin-top:0;max-width:none;padding-right:0}}#logo{background:url(//www.google.com/images/branding/googlelogo/1x/googlelogo_color_150x54dp.png) no-repeat;margin-left:-5px}@media only screen and (min-resolution:192dpi){#logo{background:url(//www.google.com/images/branding/googlelogo/2x/googlelogo_color_150x54dp.png) no-repeat 0% 0%/100% 100%;-moz-border-image:url(//www.google.com/images/branding/googlelogo/2x/googlelogo_color_150x54dp.png) 0}}@media only screen and (-webkit-min-device-pixel-ratio:2){#logo{background:url(//www.google.com/images/branding/googlelogo/2x/googlelogo_color_150x54dp.png) no-repeat;-webkit-background-size:100% 100%}}#logo{display:inline-block;height:54px;width:150px}\\n  </style>\\n  <a href=//www.google.com/><span id=logo aria-label=Google></span></a>\\n  <p><b>404.</b> <ins>That\\xe2\\x80\\x99s an error.</ins>\\n  <p>The requested URL <code>/scholar</code> was not found on this server.  <ins>That\\xe2\\x80\\x99s all we know.</ins>\\n'"
      ]
     },
     "execution_count": 39,
     "metadata": {},
     "output_type": "execute_result"
    }
   ],
   "source": [
    "resp.content"
   ]
  },
  {
   "cell_type": "code",
   "execution_count": 44,
   "metadata": {},
   "outputs": [
    {
     "name": "stderr",
     "output_type": "stream",
     "text": [
      "/Users/etiennewagner/miniconda3/envs/projet_certif/lib/python3.12/site-packages/urllib3/connectionpool.py:1103: InsecureRequestWarning: Unverified HTTPS request is being made to host 'proxy.zenrows.com'. Adding certificate verification is strongly advised. See: https://urllib3.readthedocs.io/en/latest/advanced-usage.html#tls-warnings\n",
      "  warnings.warn(\n"
     ]
    }
   ],
   "source": [
    "resp2 = requests.get(url='https://scholar.googleusercontent.com/scholar.ris?q=info:EDXPb77wTRcJ:scholar.google.com/&output=citation&scisdr=ClHYdcwWEO2Nqc24eMU:AFWwaeYAAAAAZmS-YMXPCdv2gJf6HY-viOSuzNw&scisig=AFWwaeYAAAAAZmS-YIa9uF_Z8ncpuHKWd0u4Nk8&scisf=2&ct=citation&cd=-1&hl=fr', headers=headers, proxies=proxies, verify=False)"
   ]
  },
  {
   "cell_type": "code",
   "execution_count": 45,
   "metadata": {},
   "outputs": [
    {
     "data": {
      "text/plain": [
       "b'{\"code\":\"RESP001\",\"instance\":\"/v1\",\"status\":422,\"title\":\"Could not get content. try enabling javascript rendering for a higher success rate (RESP001)\",\"type\":\"https://docs.zenrows.com/api-error-codes#RESP001\"}'"
      ]
     },
     "execution_count": 45,
     "metadata": {},
     "output_type": "execute_result"
    }
   ],
   "source": [
    "resp2.content"
   ]
  }
 ],
 "metadata": {
  "kernelspec": {
   "display_name": "projet_certif",
   "language": "python",
   "name": "python3"
  },
  "language_info": {
   "codemirror_mode": {
    "name": "ipython",
    "version": 3
   },
   "file_extension": ".py",
   "mimetype": "text/x-python",
   "name": "python",
   "nbconvert_exporter": "python",
   "pygments_lexer": "ipython3",
   "version": "3.12.2"
  }
 },
 "nbformat": 4,
 "nbformat_minor": 2
}
